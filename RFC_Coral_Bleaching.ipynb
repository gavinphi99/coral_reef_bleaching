{
  "nbformat": 4,
  "nbformat_minor": 0,
  "metadata": {
    "colab": {
      "provenance": [],
      "include_colab_link": true
    },
    "kernelspec": {
      "name": "python3",
      "display_name": "Python 3"
    },
    "language_info": {
      "name": "python"
    }
  },
  "cells": [
    {
      "cell_type": "markdown",
      "metadata": {
        "id": "view-in-github",
        "colab_type": "text"
      },
      "source": [
        "<a href=\"https://colab.research.google.com/github/gavinphi99/coral_reef_bleaching/blob/main/RFC_Coral_Bleaching.ipynb\" target=\"_parent\"><img src=\"https://colab.research.google.com/assets/colab-badge.svg\" alt=\"Open In Colab\"/></a>"
      ]
    },
    {
      "cell_type": "markdown",
      "source": [],
      "metadata": {
        "id": "mZ_LUjjAK_AU"
      }
    },
    {
      "cell_type": "markdown",
      "metadata": {
        "id": "kaON7iBRlqUh"
      },
      "source": [
        "# Coral Bleaching\n",
        "### SDS322E\n",
        "\n"
      ]
    },
    {
      "cell_type": "markdown",
      "metadata": {
        "id": "dQ-weIFYlu-l"
      },
      "source": [
        "## Phillip Gavino, pag2529\n"
      ]
    },
    {
      "cell_type": "code",
      "metadata": {
        "id": "fsAf80y1R8Cp",
        "colab": {
          "base_uri": "https://localhost:8080/",
          "height": 73
        },
        "outputId": "4a060201-2178-4d83-c97e-5c49f093ade4"
      },
      "source": [
        "import numpy as np\n",
        "import matplotlib.pylab as plt\n",
        "import pandas as pd\n",
        "\n",
        "from sklearn.model_selection import train_test_split\n",
        "from sklearn import metrics\n",
        "from sklearn.neighbors import KNeighborsClassifier\n",
        "from sklearn.ensemble import RandomForestClassifier\n",
        "import sklearn\n",
        "from google.colab import files\n",
        "import io\n",
        "uploaded = files.upload()"
      ],
      "execution_count": null,
      "outputs": [
        {
          "output_type": "display_data",
          "data": {
            "text/plain": [
              "<IPython.core.display.HTML object>"
            ],
            "text/html": [
              "\n",
              "     <input type=\"file\" id=\"files-2dcbca12-7fa4-4ed4-95a7-f91625ae154d\" name=\"files[]\" multiple disabled\n",
              "        style=\"border:none\" />\n",
              "     <output id=\"result-2dcbca12-7fa4-4ed4-95a7-f91625ae154d\">\n",
              "      Upload widget is only available when the cell has been executed in the\n",
              "      current browser session. Please rerun this cell to enable.\n",
              "      </output>\n",
              "      <script>// Copyright 2017 Google LLC\n",
              "//\n",
              "// Licensed under the Apache License, Version 2.0 (the \"License\");\n",
              "// you may not use this file except in compliance with the License.\n",
              "// You may obtain a copy of the License at\n",
              "//\n",
              "//      http://www.apache.org/licenses/LICENSE-2.0\n",
              "//\n",
              "// Unless required by applicable law or agreed to in writing, software\n",
              "// distributed under the License is distributed on an \"AS IS\" BASIS,\n",
              "// WITHOUT WARRANTIES OR CONDITIONS OF ANY KIND, either express or implied.\n",
              "// See the License for the specific language governing permissions and\n",
              "// limitations under the License.\n",
              "\n",
              "/**\n",
              " * @fileoverview Helpers for google.colab Python module.\n",
              " */\n",
              "(function(scope) {\n",
              "function span(text, styleAttributes = {}) {\n",
              "  const element = document.createElement('span');\n",
              "  element.textContent = text;\n",
              "  for (const key of Object.keys(styleAttributes)) {\n",
              "    element.style[key] = styleAttributes[key];\n",
              "  }\n",
              "  return element;\n",
              "}\n",
              "\n",
              "// Max number of bytes which will be uploaded at a time.\n",
              "const MAX_PAYLOAD_SIZE = 100 * 1024;\n",
              "\n",
              "function _uploadFiles(inputId, outputId) {\n",
              "  const steps = uploadFilesStep(inputId, outputId);\n",
              "  const outputElement = document.getElementById(outputId);\n",
              "  // Cache steps on the outputElement to make it available for the next call\n",
              "  // to uploadFilesContinue from Python.\n",
              "  outputElement.steps = steps;\n",
              "\n",
              "  return _uploadFilesContinue(outputId);\n",
              "}\n",
              "\n",
              "// This is roughly an async generator (not supported in the browser yet),\n",
              "// where there are multiple asynchronous steps and the Python side is going\n",
              "// to poll for completion of each step.\n",
              "// This uses a Promise to block the python side on completion of each step,\n",
              "// then passes the result of the previous step as the input to the next step.\n",
              "function _uploadFilesContinue(outputId) {\n",
              "  const outputElement = document.getElementById(outputId);\n",
              "  const steps = outputElement.steps;\n",
              "\n",
              "  const next = steps.next(outputElement.lastPromiseValue);\n",
              "  return Promise.resolve(next.value.promise).then((value) => {\n",
              "    // Cache the last promise value to make it available to the next\n",
              "    // step of the generator.\n",
              "    outputElement.lastPromiseValue = value;\n",
              "    return next.value.response;\n",
              "  });\n",
              "}\n",
              "\n",
              "/**\n",
              " * Generator function which is called between each async step of the upload\n",
              " * process.\n",
              " * @param {string} inputId Element ID of the input file picker element.\n",
              " * @param {string} outputId Element ID of the output display.\n",
              " * @return {!Iterable<!Object>} Iterable of next steps.\n",
              " */\n",
              "function* uploadFilesStep(inputId, outputId) {\n",
              "  const inputElement = document.getElementById(inputId);\n",
              "  inputElement.disabled = false;\n",
              "\n",
              "  const outputElement = document.getElementById(outputId);\n",
              "  outputElement.innerHTML = '';\n",
              "\n",
              "  const pickedPromise = new Promise((resolve) => {\n",
              "    inputElement.addEventListener('change', (e) => {\n",
              "      resolve(e.target.files);\n",
              "    });\n",
              "  });\n",
              "\n",
              "  const cancel = document.createElement('button');\n",
              "  inputElement.parentElement.appendChild(cancel);\n",
              "  cancel.textContent = 'Cancel upload';\n",
              "  const cancelPromise = new Promise((resolve) => {\n",
              "    cancel.onclick = () => {\n",
              "      resolve(null);\n",
              "    };\n",
              "  });\n",
              "\n",
              "  // Wait for the user to pick the files.\n",
              "  const files = yield {\n",
              "    promise: Promise.race([pickedPromise, cancelPromise]),\n",
              "    response: {\n",
              "      action: 'starting',\n",
              "    }\n",
              "  };\n",
              "\n",
              "  cancel.remove();\n",
              "\n",
              "  // Disable the input element since further picks are not allowed.\n",
              "  inputElement.disabled = true;\n",
              "\n",
              "  if (!files) {\n",
              "    return {\n",
              "      response: {\n",
              "        action: 'complete',\n",
              "      }\n",
              "    };\n",
              "  }\n",
              "\n",
              "  for (const file of files) {\n",
              "    const li = document.createElement('li');\n",
              "    li.append(span(file.name, {fontWeight: 'bold'}));\n",
              "    li.append(span(\n",
              "        `(${file.type || 'n/a'}) - ${file.size} bytes, ` +\n",
              "        `last modified: ${\n",
              "            file.lastModifiedDate ? file.lastModifiedDate.toLocaleDateString() :\n",
              "                                    'n/a'} - `));\n",
              "    const percent = span('0% done');\n",
              "    li.appendChild(percent);\n",
              "\n",
              "    outputElement.appendChild(li);\n",
              "\n",
              "    const fileDataPromise = new Promise((resolve) => {\n",
              "      const reader = new FileReader();\n",
              "      reader.onload = (e) => {\n",
              "        resolve(e.target.result);\n",
              "      };\n",
              "      reader.readAsArrayBuffer(file);\n",
              "    });\n",
              "    // Wait for the data to be ready.\n",
              "    let fileData = yield {\n",
              "      promise: fileDataPromise,\n",
              "      response: {\n",
              "        action: 'continue',\n",
              "      }\n",
              "    };\n",
              "\n",
              "    // Use a chunked sending to avoid message size limits. See b/62115660.\n",
              "    let position = 0;\n",
              "    do {\n",
              "      const length = Math.min(fileData.byteLength - position, MAX_PAYLOAD_SIZE);\n",
              "      const chunk = new Uint8Array(fileData, position, length);\n",
              "      position += length;\n",
              "\n",
              "      const base64 = btoa(String.fromCharCode.apply(null, chunk));\n",
              "      yield {\n",
              "        response: {\n",
              "          action: 'append',\n",
              "          file: file.name,\n",
              "          data: base64,\n",
              "        },\n",
              "      };\n",
              "\n",
              "      let percentDone = fileData.byteLength === 0 ?\n",
              "          100 :\n",
              "          Math.round((position / fileData.byteLength) * 100);\n",
              "      percent.textContent = `${percentDone}% done`;\n",
              "\n",
              "    } while (position < fileData.byteLength);\n",
              "  }\n",
              "\n",
              "  // All done.\n",
              "  yield {\n",
              "    response: {\n",
              "      action: 'complete',\n",
              "    }\n",
              "  };\n",
              "}\n",
              "\n",
              "scope.google = scope.google || {};\n",
              "scope.google.colab = scope.google.colab || {};\n",
              "scope.google.colab._files = {\n",
              "  _uploadFiles,\n",
              "  _uploadFilesContinue,\n",
              "};\n",
              "})(self);\n",
              "</script> "
            ]
          },
          "metadata": {}
        },
        {
          "output_type": "stream",
          "name": "stdout",
          "text": [
            "Saving V2-global-bleaching-and-environmental-data.csv to V2-global-bleaching-and-environmental-data (1).csv\n"
          ]
        }
      ]
    },
    {
      "cell_type": "code",
      "metadata": {
        "id": "0dhsNRsASAHe",
        "colab": {
          "base_uri": "https://localhost:8080/",
          "height": 473
        },
        "outputId": "607106a0-0ace-4484-f09e-b1e3d064256a"
      },
      "source": [
        "\n",
        "\n",
        "df = pd.read_csv(io.BytesIO(uploaded[\"V2-global-bleaching-and-environmental-data.csv\"]), na_values=[\"nd\"])\n",
        "df.head()"
      ],
      "execution_count": null,
      "outputs": [
        {
          "output_type": "execute_result",
          "data": {
            "text/plain": [
              "   Site_ID  Sample_ID Data_Source  Latitude_Degrees  Longitude_Degrees  \\\n",
              "0     2501   10324336      Donner            23.163           -82.5260   \n",
              "1     3467   10324754      Donner           -17.575          -149.7833   \n",
              "2     1794   10323866      Donner            18.369           -64.5640   \n",
              "3     8647   10328028      Donner            17.760           -64.5680   \n",
              "4     8648   10328029      Donner            17.769           -64.5830   \n",
              "\n",
              "  Ocean_Name Reef_ID            Realm_Name  \\\n",
              "0   Atlantic     NaN     Tropical Atlantic   \n",
              "1    Pacific     NaN  Eastern Indo-Pacific   \n",
              "2   Atlantic     NaN     Tropical Atlantic   \n",
              "3   Atlantic     NaN     Tropical Atlantic   \n",
              "4   Atlantic     NaN     Tropical Atlantic   \n",
              "\n",
              "                               Ecoregion_Name      Country_Name  ...  \\\n",
              "0                     Cuba and Cayman Islands              Cuba  ...   \n",
              "1            Society Islands French Polynesia  French Polynesia  ...   \n",
              "2  Hispaniola Puerto Rico and Lesser Antilles    United Kingdom  ...   \n",
              "3  Hispaniola Puerto Rico and Lesser Antilles     United States  ...   \n",
              "4  Hispaniola Puerto Rico and Lesser Antilles     United States  ...   \n",
              "\n",
              "  TSA_FrequencyMax TSA_FrequencyMean TSA_DHW  TSA_DHW_Standard_Deviation  \\\n",
              "0              5.0               0.0    0.00                        0.74   \n",
              "1              4.0               0.0    0.26                        0.67   \n",
              "2              7.0               0.0    0.00                        1.04   \n",
              "3              4.0               0.0    0.00                        0.75   \n",
              "4              5.0               0.0    0.00                        0.92   \n",
              "\n",
              "  TSA_DHWMax  TSA_DHWMean        Date  \\\n",
              "0       7.25         0.18  2005-09-15   \n",
              "1       4.65         0.19  1991-03-15   \n",
              "2      11.66         0.26  2006-01-15   \n",
              "3       5.64         0.20  2006-04-15   \n",
              "4       6.89         0.25  2006-04-15   \n",
              "\n",
              "                                       Site_Comments  \\\n",
              "0                                                NaN   \n",
              "1  The bleaching does not  appear to have gained ...   \n",
              "2                                                NaN   \n",
              "3                                                NaN   \n",
              "4                                                NaN   \n",
              "\n",
              "                                     Sample_Comments  Bleaching_Comments  \n",
              "0                                                NaN                 NaN  \n",
              "1  The bleaching does not  appear to have gained ...                 NaN  \n",
              "2                                                NaN                 NaN  \n",
              "3                                                NaN                 NaN  \n",
              "4                                                NaN                 NaN  \n",
              "\n",
              "[5 rows x 62 columns]"
            ],
            "text/html": [
              "\n",
              "  <div id=\"df-40f295fa-7c11-46e9-8c0a-8f334835d63a\">\n",
              "    <div class=\"colab-df-container\">\n",
              "      <div>\n",
              "<style scoped>\n",
              "    .dataframe tbody tr th:only-of-type {\n",
              "        vertical-align: middle;\n",
              "    }\n",
              "\n",
              "    .dataframe tbody tr th {\n",
              "        vertical-align: top;\n",
              "    }\n",
              "\n",
              "    .dataframe thead th {\n",
              "        text-align: right;\n",
              "    }\n",
              "</style>\n",
              "<table border=\"1\" class=\"dataframe\">\n",
              "  <thead>\n",
              "    <tr style=\"text-align: right;\">\n",
              "      <th></th>\n",
              "      <th>Site_ID</th>\n",
              "      <th>Sample_ID</th>\n",
              "      <th>Data_Source</th>\n",
              "      <th>Latitude_Degrees</th>\n",
              "      <th>Longitude_Degrees</th>\n",
              "      <th>Ocean_Name</th>\n",
              "      <th>Reef_ID</th>\n",
              "      <th>Realm_Name</th>\n",
              "      <th>Ecoregion_Name</th>\n",
              "      <th>Country_Name</th>\n",
              "      <th>...</th>\n",
              "      <th>TSA_FrequencyMax</th>\n",
              "      <th>TSA_FrequencyMean</th>\n",
              "      <th>TSA_DHW</th>\n",
              "      <th>TSA_DHW_Standard_Deviation</th>\n",
              "      <th>TSA_DHWMax</th>\n",
              "      <th>TSA_DHWMean</th>\n",
              "      <th>Date</th>\n",
              "      <th>Site_Comments</th>\n",
              "      <th>Sample_Comments</th>\n",
              "      <th>Bleaching_Comments</th>\n",
              "    </tr>\n",
              "  </thead>\n",
              "  <tbody>\n",
              "    <tr>\n",
              "      <th>0</th>\n",
              "      <td>2501</td>\n",
              "      <td>10324336</td>\n",
              "      <td>Donner</td>\n",
              "      <td>23.163</td>\n",
              "      <td>-82.5260</td>\n",
              "      <td>Atlantic</td>\n",
              "      <td>NaN</td>\n",
              "      <td>Tropical Atlantic</td>\n",
              "      <td>Cuba and Cayman Islands</td>\n",
              "      <td>Cuba</td>\n",
              "      <td>...</td>\n",
              "      <td>5.0</td>\n",
              "      <td>0.0</td>\n",
              "      <td>0.00</td>\n",
              "      <td>0.74</td>\n",
              "      <td>7.25</td>\n",
              "      <td>0.18</td>\n",
              "      <td>2005-09-15</td>\n",
              "      <td>NaN</td>\n",
              "      <td>NaN</td>\n",
              "      <td>NaN</td>\n",
              "    </tr>\n",
              "    <tr>\n",
              "      <th>1</th>\n",
              "      <td>3467</td>\n",
              "      <td>10324754</td>\n",
              "      <td>Donner</td>\n",
              "      <td>-17.575</td>\n",
              "      <td>-149.7833</td>\n",
              "      <td>Pacific</td>\n",
              "      <td>NaN</td>\n",
              "      <td>Eastern Indo-Pacific</td>\n",
              "      <td>Society Islands French Polynesia</td>\n",
              "      <td>French Polynesia</td>\n",
              "      <td>...</td>\n",
              "      <td>4.0</td>\n",
              "      <td>0.0</td>\n",
              "      <td>0.26</td>\n",
              "      <td>0.67</td>\n",
              "      <td>4.65</td>\n",
              "      <td>0.19</td>\n",
              "      <td>1991-03-15</td>\n",
              "      <td>The bleaching does not  appear to have gained ...</td>\n",
              "      <td>The bleaching does not  appear to have gained ...</td>\n",
              "      <td>NaN</td>\n",
              "    </tr>\n",
              "    <tr>\n",
              "      <th>2</th>\n",
              "      <td>1794</td>\n",
              "      <td>10323866</td>\n",
              "      <td>Donner</td>\n",
              "      <td>18.369</td>\n",
              "      <td>-64.5640</td>\n",
              "      <td>Atlantic</td>\n",
              "      <td>NaN</td>\n",
              "      <td>Tropical Atlantic</td>\n",
              "      <td>Hispaniola Puerto Rico and Lesser Antilles</td>\n",
              "      <td>United Kingdom</td>\n",
              "      <td>...</td>\n",
              "      <td>7.0</td>\n",
              "      <td>0.0</td>\n",
              "      <td>0.00</td>\n",
              "      <td>1.04</td>\n",
              "      <td>11.66</td>\n",
              "      <td>0.26</td>\n",
              "      <td>2006-01-15</td>\n",
              "      <td>NaN</td>\n",
              "      <td>NaN</td>\n",
              "      <td>NaN</td>\n",
              "    </tr>\n",
              "    <tr>\n",
              "      <th>3</th>\n",
              "      <td>8647</td>\n",
              "      <td>10328028</td>\n",
              "      <td>Donner</td>\n",
              "      <td>17.760</td>\n",
              "      <td>-64.5680</td>\n",
              "      <td>Atlantic</td>\n",
              "      <td>NaN</td>\n",
              "      <td>Tropical Atlantic</td>\n",
              "      <td>Hispaniola Puerto Rico and Lesser Antilles</td>\n",
              "      <td>United States</td>\n",
              "      <td>...</td>\n",
              "      <td>4.0</td>\n",
              "      <td>0.0</td>\n",
              "      <td>0.00</td>\n",
              "      <td>0.75</td>\n",
              "      <td>5.64</td>\n",
              "      <td>0.20</td>\n",
              "      <td>2006-04-15</td>\n",
              "      <td>NaN</td>\n",
              "      <td>NaN</td>\n",
              "      <td>NaN</td>\n",
              "    </tr>\n",
              "    <tr>\n",
              "      <th>4</th>\n",
              "      <td>8648</td>\n",
              "      <td>10328029</td>\n",
              "      <td>Donner</td>\n",
              "      <td>17.769</td>\n",
              "      <td>-64.5830</td>\n",
              "      <td>Atlantic</td>\n",
              "      <td>NaN</td>\n",
              "      <td>Tropical Atlantic</td>\n",
              "      <td>Hispaniola Puerto Rico and Lesser Antilles</td>\n",
              "      <td>United States</td>\n",
              "      <td>...</td>\n",
              "      <td>5.0</td>\n",
              "      <td>0.0</td>\n",
              "      <td>0.00</td>\n",
              "      <td>0.92</td>\n",
              "      <td>6.89</td>\n",
              "      <td>0.25</td>\n",
              "      <td>2006-04-15</td>\n",
              "      <td>NaN</td>\n",
              "      <td>NaN</td>\n",
              "      <td>NaN</td>\n",
              "    </tr>\n",
              "  </tbody>\n",
              "</table>\n",
              "<p>5 rows × 62 columns</p>\n",
              "</div>\n",
              "      <button class=\"colab-df-convert\" onclick=\"convertToInteractive('df-40f295fa-7c11-46e9-8c0a-8f334835d63a')\"\n",
              "              title=\"Convert this dataframe to an interactive table.\"\n",
              "              style=\"display:none;\">\n",
              "        \n",
              "  <svg xmlns=\"http://www.w3.org/2000/svg\" height=\"24px\"viewBox=\"0 0 24 24\"\n",
              "       width=\"24px\">\n",
              "    <path d=\"M0 0h24v24H0V0z\" fill=\"none\"/>\n",
              "    <path d=\"M18.56 5.44l.94 2.06.94-2.06 2.06-.94-2.06-.94-.94-2.06-.94 2.06-2.06.94zm-11 1L8.5 8.5l.94-2.06 2.06-.94-2.06-.94L8.5 2.5l-.94 2.06-2.06.94zm10 10l.94 2.06.94-2.06 2.06-.94-2.06-.94-.94-2.06-.94 2.06-2.06.94z\"/><path d=\"M17.41 7.96l-1.37-1.37c-.4-.4-.92-.59-1.43-.59-.52 0-1.04.2-1.43.59L10.3 9.45l-7.72 7.72c-.78.78-.78 2.05 0 2.83L4 21.41c.39.39.9.59 1.41.59.51 0 1.02-.2 1.41-.59l7.78-7.78 2.81-2.81c.8-.78.8-2.07 0-2.86zM5.41 20L4 18.59l7.72-7.72 1.47 1.35L5.41 20z\"/>\n",
              "  </svg>\n",
              "      </button>\n",
              "      \n",
              "  <style>\n",
              "    .colab-df-container {\n",
              "      display:flex;\n",
              "      flex-wrap:wrap;\n",
              "      gap: 12px;\n",
              "    }\n",
              "\n",
              "    .colab-df-convert {\n",
              "      background-color: #E8F0FE;\n",
              "      border: none;\n",
              "      border-radius: 50%;\n",
              "      cursor: pointer;\n",
              "      display: none;\n",
              "      fill: #1967D2;\n",
              "      height: 32px;\n",
              "      padding: 0 0 0 0;\n",
              "      width: 32px;\n",
              "    }\n",
              "\n",
              "    .colab-df-convert:hover {\n",
              "      background-color: #E2EBFA;\n",
              "      box-shadow: 0px 1px 2px rgba(60, 64, 67, 0.3), 0px 1px 3px 1px rgba(60, 64, 67, 0.15);\n",
              "      fill: #174EA6;\n",
              "    }\n",
              "\n",
              "    [theme=dark] .colab-df-convert {\n",
              "      background-color: #3B4455;\n",
              "      fill: #D2E3FC;\n",
              "    }\n",
              "\n",
              "    [theme=dark] .colab-df-convert:hover {\n",
              "      background-color: #434B5C;\n",
              "      box-shadow: 0px 1px 3px 1px rgba(0, 0, 0, 0.15);\n",
              "      filter: drop-shadow(0px 1px 2px rgba(0, 0, 0, 0.3));\n",
              "      fill: #FFFFFF;\n",
              "    }\n",
              "  </style>\n",
              "\n",
              "      <script>\n",
              "        const buttonEl =\n",
              "          document.querySelector('#df-40f295fa-7c11-46e9-8c0a-8f334835d63a button.colab-df-convert');\n",
              "        buttonEl.style.display =\n",
              "          google.colab.kernel.accessAllowed ? 'block' : 'none';\n",
              "\n",
              "        async function convertToInteractive(key) {\n",
              "          const element = document.querySelector('#df-40f295fa-7c11-46e9-8c0a-8f334835d63a');\n",
              "          const dataTable =\n",
              "            await google.colab.kernel.invokeFunction('convertToInteractive',\n",
              "                                                     [key], {});\n",
              "          if (!dataTable) return;\n",
              "\n",
              "          const docLinkHtml = 'Like what you see? Visit the ' +\n",
              "            '<a target=\"_blank\" href=https://colab.research.google.com/notebooks/data_table.ipynb>data table notebook</a>'\n",
              "            + ' to learn more about interactive tables.';\n",
              "          element.innerHTML = '';\n",
              "          dataTable['output_type'] = 'display_data';\n",
              "          await google.colab.output.renderOutput(dataTable, element);\n",
              "          const docLink = document.createElement('div');\n",
              "          docLink.innerHTML = docLinkHtml;\n",
              "          element.appendChild(docLink);\n",
              "        }\n",
              "      </script>\n",
              "    </div>\n",
              "  </div>\n",
              "  "
            ]
          },
          "metadata": {},
          "execution_count": 24
        }
      ]
    },
    {
      "cell_type": "code",
      "metadata": {
        "colab": {
          "base_uri": "https://localhost:8080/"
        },
        "id": "MZO_KaSknkDf",
        "outputId": "3b22055c-e890-415b-d13d-bdcd9f6fbc46"
      },
      "source": [
        "!pip install shap\n",
        "import shap"
      ],
      "execution_count": null,
      "outputs": [
        {
          "output_type": "stream",
          "name": "stdout",
          "text": [
            "Looking in indexes: https://pypi.org/simple, https://us-python.pkg.dev/colab-wheels/public/simple/\n",
            "Collecting shap\n",
            "  Downloading shap-0.41.0-cp38-cp38-manylinux_2_12_x86_64.manylinux2010_x86_64.whl (575 kB)\n",
            "\u001b[K     |████████████████████████████████| 575 kB 4.6 MB/s \n",
            "\u001b[?25hRequirement already satisfied: packaging>20.9 in /usr/local/lib/python3.8/dist-packages (from shap) (21.3)\n",
            "Collecting slicer==0.0.7\n",
            "  Downloading slicer-0.0.7-py3-none-any.whl (14 kB)\n",
            "Requirement already satisfied: scipy in /usr/local/lib/python3.8/dist-packages (from shap) (1.7.3)\n",
            "Requirement already satisfied: cloudpickle in /usr/local/lib/python3.8/dist-packages (from shap) (1.5.0)\n",
            "Requirement already satisfied: numpy in /usr/local/lib/python3.8/dist-packages (from shap) (1.21.6)\n",
            "Requirement already satisfied: tqdm>4.25.0 in /usr/local/lib/python3.8/dist-packages (from shap) (4.64.1)\n",
            "Requirement already satisfied: numba in /usr/local/lib/python3.8/dist-packages (from shap) (0.56.4)\n",
            "Requirement already satisfied: pandas in /usr/local/lib/python3.8/dist-packages (from shap) (1.3.5)\n",
            "Requirement already satisfied: scikit-learn in /usr/local/lib/python3.8/dist-packages (from shap) (1.0.2)\n",
            "Requirement already satisfied: pyparsing!=3.0.5,>=2.0.2 in /usr/local/lib/python3.8/dist-packages (from packaging>20.9->shap) (3.0.9)\n",
            "Requirement already satisfied: setuptools in /usr/local/lib/python3.8/dist-packages (from numba->shap) (57.4.0)\n",
            "Requirement already satisfied: importlib-metadata in /usr/local/lib/python3.8/dist-packages (from numba->shap) (4.13.0)\n",
            "Requirement already satisfied: llvmlite<0.40,>=0.39.0dev0 in /usr/local/lib/python3.8/dist-packages (from numba->shap) (0.39.1)\n",
            "Requirement already satisfied: zipp>=0.5 in /usr/local/lib/python3.8/dist-packages (from importlib-metadata->numba->shap) (3.10.0)\n",
            "Requirement already satisfied: pytz>=2017.3 in /usr/local/lib/python3.8/dist-packages (from pandas->shap) (2022.6)\n",
            "Requirement already satisfied: python-dateutil>=2.7.3 in /usr/local/lib/python3.8/dist-packages (from pandas->shap) (2.8.2)\n",
            "Requirement already satisfied: six>=1.5 in /usr/local/lib/python3.8/dist-packages (from python-dateutil>=2.7.3->pandas->shap) (1.15.0)\n",
            "Requirement already satisfied: joblib>=0.11 in /usr/local/lib/python3.8/dist-packages (from scikit-learn->shap) (1.2.0)\n",
            "Requirement already satisfied: threadpoolctl>=2.0.0 in /usr/local/lib/python3.8/dist-packages (from scikit-learn->shap) (3.1.0)\n",
            "Installing collected packages: slicer, shap\n",
            "Successfully installed shap-0.41.0 slicer-0.0.7\n"
          ]
        }
      ]
    },
    {
      "cell_type": "code",
      "metadata": {
        "colab": {
          "base_uri": "https://localhost:8080/"
        },
        "id": "1dpdXjEj9w9J",
        "outputId": "5ed02a06-450c-4aa1-85c6-e6a2d0417c3d"
      },
      "source": [
        "from sklearn.ensemble import RandomForestClassifier\n",
        "\n",
        "df[\"Percent_Bleaching\"] = df[\"Percent_Bleaching\"].astype(float)\n",
        "\n",
        "\n",
        "df['label'] = 1\n",
        "df['label'][df['Percent_Bleaching'] < 50.0] = 0\n",
        "\n",
        "# drop four columns from the end except label as they are character columns\n",
        "df.drop(['Date', 'Site_Comments', 'Sample_Comments', 'Bleaching_Comments'], axis = 1, inplace = True)\n",
        "\n",
        "# Drop columns from Site_ID to Site_Name (i.e. from the begin of the dataframe) as they are character columns\n",
        "df.drop(df.loc[:, 'Site_ID':'Site_Name'], axis = 1, inplace = True)\n",
        "\n",
        "# Drop Exposure,  Substrate_Name and Bleaching_Level since they are character columns\n",
        "df.drop(['Exposure', 'Substrate_Name', 'Bleaching_Level'], axis = 1, inplace = True)\n",
        "\n",
        "# Drop Percent_Bleaching as it is not needed since label is being computed from Percent_Bleaching\n",
        "df.drop(['Percent_Bleaching'], axis = 1, inplace = True)\n",
        "\n",
        "df1 = df.dropna()\n",
        "\n",
        "X = df1.iloc[:, :-1]; y = df1['label'] \n",
        "X_train, X_test, y_train, y_test = train_test_split(X, y, train_size=0.6, random_state=4)\n",
        "\n",
        "clf = RandomForestClassifier(n_estimators=500, random_state=41)\n",
        "clf.fit(X_train, y_train)\n",
        "y_pred = clf.predict(X_test)"
      ],
      "execution_count": null,
      "outputs": [
        {
          "output_type": "stream",
          "name": "stderr",
          "text": [
            "\n",
            "A value is trying to be set on a copy of a slice from a DataFrame\n",
            "\n",
            "See the caveats in the documentation: https://pandas.pydata.org/pandas-docs/stable/user_guide/indexing.html#returning-a-view-versus-a-copy\n"
          ]
        }
      ]
    },
    {
      "cell_type": "code",
      "source": [
        "print(metrics.accuracy_score(y_test, y_pred))\n",
        "print(metrics.precision_score(y_test, y_pred))\n",
        "print(metrics.recall_score(y_test, y_pred))"
      ],
      "metadata": {
        "colab": {
          "base_uri": "https://localhost:8080/"
        },
        "id": "1EuBrNH0s_mt",
        "outputId": "f2cdeb29-b127-416c-fe94-08a1d587e93b"
      },
      "execution_count": null,
      "outputs": [
        {
          "output_type": "stream",
          "name": "stdout",
          "text": [
            "0.9846073571614923\n",
            "0.9826224328593997\n",
            "0.9492560091568104\n"
          ]
        }
      ]
    },
    {
      "cell_type": "code",
      "source": [
        "disp = metrics.plot_confusion_matrix(clf, X_test, y_test, colorbar=False)"
      ],
      "metadata": {
        "colab": {
          "base_uri": "https://localhost:8080/",
          "height": 316
        },
        "id": "2RQxtaWXveRg",
        "outputId": "de1ba741-6e4a-43f7-fb23-250586196ba5"
      },
      "execution_count": null,
      "outputs": [
        {
          "output_type": "stream",
          "name": "stderr",
          "text": [
            "Function plot_confusion_matrix is deprecated; Function `plot_confusion_matrix` is deprecated in 1.0 and will be removed in 1.2. Use one of the class methods: ConfusionMatrixDisplay.from_predictions or ConfusionMatrixDisplay.from_estimator.\n"
          ]
        },
        {
          "output_type": "display_data",
          "data": {
            "text/plain": [
              "<Figure size 432x288 with 1 Axes>"
            ],
            "image/png": "[encoded data removed]"
          },
          "metadata": {
            "needs_background": "light"
          }
        }
      ]
    },
    {
      "cell_type": "code",
      "metadata": {
        "colab": {
          "base_uri": "https://localhost:8080/",
          "height": 693
        },
        "id": "X5TY_AyOnt5X",
        "outputId": "319f3927-072a-479c-92eb-e25295fc260e"
      },
      "source": [
        "explainer = shap.Explainer(clf)\n",
        "shap_values = explainer.shap_values(X[::200])\n",
        "shap.summary_plot(shap_values, X[::200])"
      ],
      "execution_count": null,
      "outputs": [
        {
          "output_type": "display_data",
          "data": {
            "text/plain": [
              "<Figure size 576x684 with 1 Axes>"
            ],
            "image/png": "[encoded data removed]"
          },
          "metadata": {
            "needs_background": "light"
          }
        }
      ]
    },
    {
      "cell_type": "code",
      "source": [
        "object_i = 125\n",
        "class_object_i = int(y[::200].iloc[object_i])\n",
        "\n",
        "print('Analysis for  Object Id : ', object_i)\n",
        "print('-------------------------')\n",
        "\n",
        "print('True Class (if 1, Percent_Bleaching >= 50.0, otherwise Percent_Bleaching < 50.0) : ', class_object_i)\n",
        "print('Probability that this data point belong to class 0 = %0.2f'%(explainer.expected_value[0] + sum(shap_values[0][object_i,:])))\n",
        "print('Base Probability for class 0 = %0.2f'%(explainer.expected_value[0]))\n",
        "\n",
        "shap.force_plot(explainer.expected_value[0],\n",
        "                shap_values[0][object_i,:],\n",
        "                X.iloc[object_i,:],\n",
        "                matplotlib=True)"
      ],
      "metadata": {
        "colab": {
          "base_uri": "https://localhost:8080/",
          "height": 360
        },
        "id": "5U9CD--OkQ-N",
        "outputId": "f4c377f0-90ee-4d0e-f85d-a677c01a62f3"
      },
      "execution_count": null,
      "outputs": [
        {
          "output_type": "stream",
          "name": "stdout",
          "text": [
            "Analysis for  Object Id :  125\n",
            "-------------------------\n",
            "True Class (if 1, Percent_Bleaching >= 50.0, otherwise Percent_Bleaching < 50.0) :  1\n",
            "Probability that this data point belong to class 0 = 0.02\n",
            "Base Probability for class 0 = 0.77\n"
          ]
        },
        {
          "output_type": "display_data",
          "data": {
            "text/plain": [
              "<Figure size 1440x216 with 1 Axes>"
            ],
            "image/png": "[encoded data removed]"
          },
          "metadata": {
            "needs_background": "light"
          }
        }
      ]
    },
    {
      "cell_type": "code",
      "metadata": {
        "colab": {
          "base_uri": "https://localhost:8080/",
          "height": 360
        },
        "id": "n7Fm9GBFpqpa",
        "outputId": "3152b007-530b-4863-be94-4ea7f751e15b"
      },
      "source": [
        "object_i = 55\n",
        "class_object_i = int(y[::200].iloc[object_i])\n",
        "\n",
        "print('Analysis for  Object Id : ', object_i)\n",
        "print('-------------------------')\n",
        "\n",
        "print('True Class (if 1, Percent_Bleaching >= 50.0, otherwise Percent_Bleaching < 50.0) : ', class_object_i)\n",
        "print('Probability that this data point belong to class 0 = %0.2f'%(explainer.expected_value[0] + sum(shap_values[0][object_i,:])))\n",
        "print('Base Probability for class 0 = %0.2f'%(explainer.expected_value[0]))\n",
        "\n",
        "shap.force_plot(explainer.expected_value[0], \n",
        "                shap_values[0][object_i,:], \n",
        "                X.iloc[object_i,:], \n",
        "                matplotlib=True)"
      ],
      "execution_count": null,
      "outputs": [
        {
          "output_type": "stream",
          "name": "stdout",
          "text": [
            "Analysis for  Object Id :  55\n",
            "-------------------------\n",
            "True Class (if 1, Percent_Bleaching >= 50.0, otherwise Percent_Bleaching < 50.0) :  0\n",
            "Probability that this data point belong to class 0 = 1.00\n",
            "Base Probability for class 0 = 0.77\n"
          ]
        },
        {
          "output_type": "display_data",
          "data": {
            "text/plain": [
              "<Figure size 1440x216 with 1 Axes>"
            ],
            "image/png": "[encoded data removed]"
          },
          "metadata": {
            "needs_background": "light"
          }
        }
      ]
    },
    {
      "cell_type": "markdown",
      "metadata": {
        "id": "_zNeQzy9ngOX"
      },
      "source": [
        "**THE END**"
      ]
    }
  ]
}